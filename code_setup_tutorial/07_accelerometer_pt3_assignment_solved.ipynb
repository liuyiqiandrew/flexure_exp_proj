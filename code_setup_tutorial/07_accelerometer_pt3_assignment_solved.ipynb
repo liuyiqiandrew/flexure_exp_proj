{
 "cells": [
  {
   "cell_type": "markdown",
   "metadata": {},
   "source": [
    "# Lab 07: Accelerometer pt 3\n",
    "\n",
    "## Assignment notebook, example solution\n",
    "\n",
    "While providing some time to finish the accelerometer analysis, I add a few new problems to serve as a review of techniques from previous labs."
   ]
  },
  {
   "cell_type": "markdown",
   "metadata": {},
   "source": [
    "# Assignment\n",
    "\n",
    " 1. Finish the Lab 06 assignment up to step 10.\n",
    " 2. The accelerometer calibration factor is not exactly (1 g)/(1000 counts), but can differ slightly due to manufacturing imperfections. Below I have copied a histogram of correction-factor values from the [ADXL362 data sheet (page 8)](https://www.analog.com/media/en/technical-documentation/data-sheets/ADXL362.pdf). Using the height of each histogram bin as the weight, compute the weighted average using `np.sum`. (The `np.average` function has a weights argument, but I want to see using `np.sum` here). For values $v_i$ and weights $w_i$, the weighted mean $\\bar{v}$ is: $$\n",
    " \\bar{v} = \\frac{\\sum_i w_i v_i}{\\sum_i w_i}\n",
    " $$\n",
    " 3. Use `scipy.optimize.curve_fit` (see lab04) to fit a Gausssian to the histogram. For parameters `A` (amplitude), `mu` (center), and `sigma` (width), the equation be: `A*np.exp(-(x-mu)**2/2./sigma**2)`. What are the best-fit parameter values? How does `mu` compare to the weighted mean from above? Plot the best-fit model on top of the bar graph to confirm that it looks reasonable.\n",
    " 4. How do changes to the calibration factor impact the offsets to subtract from the data?\n",
    " 5. Using the best-fit `mu` and `sigma` from the Gaussian fit, create an ensemble of random correction factor values (see lab02 for normally-distributed random numbers). Re-estimate the height of the elevator shaft for each value. What are the mean and standard deviation for the heights?\n",
    " 6. Bonus (repeated from lab06): I found that the acceleration was noisier in the elevator than on a desk, possibly from real vibrations in the elevator. Repeat the error estimation procedure, but this time use the x and y data during the elevator ride. Assuming the accelerometer was flat, they shouldn't see any of the real acceleration and would contain just noise. There are some real shakes that make this noise not identically distributed, but that should increase the error, and in general over-estimation of noise is less bad than under-estimation.\n",
    " 7. Bonus (repeated from lab06): If you measure each floor individually, stopping at every one, how does the error on the sum of heights compare to the error for a non-step ride from 4 to B? Assume that the error on the sum of heights add in quadrature:  $$\n",
    " error\\left(\\sum_i h_i\\right) = \\sqrt{\\sum_i error(h_i)^2}\n",
    " $$"
   ]
  },
  {
   "cell_type": "code",
   "execution_count": 1,
   "metadata": {},
   "outputs": [],
   "source": [
    "import numpy as np"
   ]
  },
  {
   "cell_type": "code",
   "execution_count": 2,
   "metadata": {},
   "outputs": [],
   "source": [
    "# standard matplotlib import, and make plots bigger by default\n",
    "import matplotlib.pyplot as plt\n",
    "plt.style.use(\"seaborn-talk\")\n",
    "plt.rc(\"figure\", figsize=(10,6))"
   ]
  },
  {
   "cell_type": "code",
   "execution_count": 3,
   "metadata": {},
   "outputs": [],
   "source": [
    "# calibration factor in (m/s^2)/count\n",
    "cal = 9.81 / 1000.\n",
    "# these correction factors multiply cal to make it slightly different\n",
    "# corrfac_values contains the factors themselves\n",
    "# and corrfac_height gives the relative incidence of each value in the test data provided\n",
    "corrfac_values = np.arange(995, 1105, 5) / 1000.\n",
    "corrfac_height = np.array([1, 0, 0, 1, 1, 0, 3, 6, 9, 6, 14, 11, 17, 8, 9, 4, 2, 1, 1, 2, 1, 1])"
   ]
  },
  {
   "cell_type": "code",
   "execution_count": 4,
   "metadata": {},
   "outputs": [
    {
     "data": {
      "text/plain": [
       "Text(0, 0.5, 'Percentage of Population (%)')"
      ]
     },
     "execution_count": 4,
     "metadata": {},
     "output_type": "execute_result"
    },
    {
     "data": {
      "image/png": "[encoded data removed]",
      "text/plain": [
       "<Figure size 576x432 with 1 Axes>"
      ]
     },
     "metadata": {
      "needs_background": "light"
     },
     "output_type": "display_data"
    }
   ],
   "source": [
    "plt.figure(figsize=(8, 6))\n",
    "# for bar width, I use the difference between the first two values\n",
    "plt.bar(corrfac_values, corrfac_height, width=np.diff(corrfac_values[:2]))\n",
    "plt.xlabel(\"Calibration Correction Factor\")\n",
    "plt.ylabel(\"Percentage of Population (%)\")"
   ]
  },
  {
   "cell_type": "markdown",
   "metadata": {},
   "source": [
    "# Question 1\n",
    "\n",
    "Is in the solution to lab 6, along with bonus questions 6 and 7, repeated from that lab."
   ]
  },
  {
   "cell_type": "markdown",
   "metadata": {},
   "source": [
    "# Question 2"
   ]
  },
  {
   "cell_type": "code",
   "execution_count": 5,
   "metadata": {},
   "outputs": [
    {
     "name": "stdout",
     "output_type": "stream",
     "text": [
      "Weighted mean correction factor is: 1.0508\n"
     ]
    }
   ],
   "source": [
    "# compute the weighted mean of the corrfac values, weighted by height\n",
    "corrfac_mean = np.sum(corrfac_height * corrfac_values) / np.sum(corrfac_height)\n",
    "print(f\"Weighted mean correction factor is: {corrfac_mean:.4f}\")"
   ]
  },
  {
   "cell_type": "markdown",
   "metadata": {},
   "source": [
    "# Question  3"
   ]
  },
  {
   "cell_type": "code",
   "execution_count": 6,
   "metadata": {},
   "outputs": [],
   "source": [
    "def gauss_model(x, A, mu, sigma):\n",
    "    \"\"\"Simple gaussian model to use with curve_fit\"\"\"\n",
    "    return A*np.exp(-(x-mu)**2/2./sigma**2)"
   ]
  },
  {
   "cell_type": "code",
   "execution_count": 7,
   "metadata": {},
   "outputs": [],
   "source": [
    "from scipy.optimize import curve_fit"
   ]
  },
  {
   "cell_type": "code",
   "execution_count": 8,
   "metadata": {},
   "outputs": [
    {
     "name": "stdout",
     "output_type": "stream",
     "text": [
      "Best-fit model has:\n",
      "   A     =  13.3047 +/-   1.0376\n",
      "   mu    =   1.0504 +/-   0.0013\n",
      "   sigma =   0.0140 +/-   0.0013\n"
     ]
    }
   ],
   "source": [
    "popt, pcov = curve_fit(gauss_model, corrfac_values, corrfac_height)\n",
    "mu = popt[1]\n",
    "sigma = popt[2]\n",
    "print(\"Best-fit model has:\")\n",
    "# np.diag on a 2D square array like pcov return an array of the diagonal elements\n",
    "# the sqrt of these are the (statistical) error bars\n",
    "for name, val, err in zip([\"A\", \"mu\", \"sigma\"], popt, np.sqrt(np.diag(pcov))):\n",
    "    print(f\"   {name:5s} = {val:8.4f} +/- {err:8.4f}\")\n"
   ]
  },
  {
   "cell_type": "markdown",
   "metadata": {},
   "source": [
    "The weighted mean correction factor is slightly higher than the best-fit `mu`, but is consistent within the error on `mu`."
   ]
  },
  {
   "cell_type": "code",
   "execution_count": 9,
   "metadata": {},
   "outputs": [
    {
     "data": {
      "text/plain": [
       "<matplotlib.legend.Legend at 0xad0d71c0>"
      ]
     },
     "execution_count": 9,
     "metadata": {},
     "output_type": "execute_result"
    },
    {
     "data": {
      "image/png": "[encoded data removed]",
      "text/plain": [
       "<Figure size 576x432 with 1 Axes>"
      ]
     },
     "metadata": {
      "needs_background": "light"
     },
     "output_type": "display_data"
    }
   ],
   "source": [
    "plt.figure(figsize=(8, 6))\n",
    "# for bar width, I use the difference between the first two values\n",
    "plt.bar(corrfac_values, corrfac_height, width=np.diff(corrfac_values[:2]), label=\"Provided Data\")\n",
    "plt.xlabel(\"Calibration Correction Factor\")\n",
    "plt.ylabel(\"Percentage of Population (%)\")\n",
    "model_x = np.linspace(np.min(corrfac_values), np.max(corrfac_values), 1000)\n",
    "model_y = gauss_model(model_x, *popt)\n",
    "plt.plot(model_x, model_y, color=\"tab:orange\", linewidth=2, label=\"Best fit model\")\n",
    "plt.legend()"
   ]
  },
  {
   "cell_type": "markdown",
   "metadata": {},
   "source": [
    "# Question 4\n",
    "\n",
    "The z offset includes contributions from both Earth's gravity and from the instrumental offset of the accelerometer.  Changing the calibration correction factor will change the relative size of these. But I want to subtract both anyway when integrating the elevator acceleration. So since their sum does not change, I don't need to worry about updating the offset for different correction factors.\n",
    "\n",
    "Therefore, the new correction factors can simply be applied to the final height result."
   ]
  },
  {
   "cell_type": "markdown",
   "metadata": {},
   "source": [
    "# Question 5"
   ]
  },
  {
   "cell_type": "code",
   "execution_count": 10,
   "metadata": {},
   "outputs": [],
   "source": [
    "# Result from last week. Both in meters\n",
    "elevator_height = 22.099\n",
    "elevator_height_err = 0.929"
   ]
  },
  {
   "cell_type": "code",
   "execution_count": 11,
   "metadata": {},
   "outputs": [],
   "source": [
    "# simulate random normal variates consistent with the best-fit model\n",
    "rng = np.random.default_rng()\n",
    "gauss_ens = rng.normal(loc=mu, scale=sigma, size=1000)"
   ]
  },
  {
   "cell_type": "code",
   "execution_count": 12,
   "metadata": {},
   "outputs": [
    {
     "name": "stdout",
     "output_type": "stream",
     "text": [
      "Mean corrected height is: 23.229 +/- 0.299\n"
     ]
    }
   ],
   "source": [
    "height_ens = elevator_height * gauss_ens\n",
    "height_mean = np.mean(height_ens)\n",
    "height_std = np.std(height_ens, ddof=1)\n",
    "print(f\"Mean corrected height is: {height_mean:.3f} +/- {height_std:.3f}\")"
   ]
  },
  {
   "cell_type": "markdown",
   "metadata": {},
   "source": [
    "This uncertainty from unknown correction factor is smaller than the error due to integration, but is still fairly significant. It could be reduced by actually calibrating the accelerometer.\n",
    "\n",
    "If this error from the unknown correction factor is assumed to be uncorrelated with the integration error in the height, they can be added in quadrature. This givess the total error. The integration error also needs to be scaled by `mu`, since it assumed the nominal calibration."
   ]
  },
  {
   "cell_type": "code",
   "execution_count": 13,
   "metadata": {},
   "outputs": [
    {
     "name": "stdout",
     "output_type": "stream",
     "text": [
      "Combined height accounting for integration and unknown calibration correction is: 23.229 +/- 1.020\n"
     ]
    }
   ],
   "source": [
    "total_height_err = np.sqrt((elevator_height_err * mu)**2 + height_std**2)\n",
    "print(f\"Combined height accounting for integration and unknown calibration correction is: \"\n",
    "      f\"{height_mean:.3f} +/- {total_height_err:.3f}\") "
   ]
  },
  {
   "cell_type": "code",
   "execution_count": null,
   "metadata": {},
   "outputs": [],
   "source": []
  }
 ],
 "metadata": {
  "kernelspec": {
   "display_name": "Python 3",
   "language": "python",
   "name": "python3"
  },
  "language_info": {
   "codemirror_mode": {
    "name": "ipython",
    "version": 3
   },
   "file_extension": ".py",
   "mimetype": "text/x-python",
   "name": "python",
   "nbconvert_exporter": "python",
   "pygments_lexer": "ipython3",
   "version": "3.9.2"
  }
 },
 "nbformat": 4,
 "nbformat_minor": 4
}
