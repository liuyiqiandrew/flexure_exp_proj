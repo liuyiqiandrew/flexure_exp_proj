{
 "cells": [
  {
   "cell_type": "code",
   "execution_count": 81,
   "metadata": {},
   "outputs": [],
   "source": [
    "import pandas as pd\n",
    "import numpy as np\n",
    "import matplotlib.pyplot as plt"
   ]
  },
  {
   "cell_type": "code",
   "execution_count": 53,
   "metadata": {},
   "outputs": [],
   "source": [
    "caliper = pd.read_csv(\n",
    "    '../data/test/caliper_output.txt', \n",
    "    sep='|',\n",
    "    header=0,\n",
    "    dtype={\n",
    "        'displacement': np.float64,\n",
    "        'delay': np.float64\n",
    "    },\n",
    "    parse_dates=['time']\n",
    ")\n",
    "\n",
    "scale = pd.read_csv(\n",
    "    \"../data/test/scale_output.txt\",\n",
    "    sep='|',\n",
    "    header=0,\n",
    "    dtype={\n",
    "        'weight': np.float64,\n",
    "        'unit': str,\n",
    "        'flag': str\n",
    "    },\n",
    "    parse_dates=['time']\n",
    ")"
   ]
  },
  {
   "cell_type": "code",
   "execution_count": null,
   "metadata": {},
   "outputs": [],
   "source": [
    "def read_data(caliper_path, scale_path):\n",
    "    \"\"\" Read caliper and scale data \"\"\"\n",
    "    caliper = pd.read_csv(\n",
    "        caliper_path, \n",
    "        sep='|',\n",
    "        header=0,\n",
    "        dtype={\n",
    "            'displacement': np.float64,\n",
    "            'delay': np.float64\n",
    "        },\n",
    "        parse_dates=['time']\n",
    "    )\n",
    "\n",
    "    scale = pd.read_csv(\n",
    "        scale_path,\n",
    "        sep='|',\n",
    "        header=0,\n",
    "        dtype={\n",
    "            'weight': np.float64,\n",
    "            'unit': str,\n",
    "            'flag': str\n",
    "        },\n",
    "        parse_dates=['time']\n",
    "    )\n",
    "    return caliper, scale"
   ]
  },
  {
   "cell_type": "code",
   "execution_count": 54,
   "metadata": {},
   "outputs": [],
   "source": [
    "def clean_raw_data(caliper:pd.DataFrame, scale:pd.DataFrame):\n",
    "    \"\"\" Clean raw data heads and tails for data matching later \"\"\"\n",
    "    scale_start_ind = 0\n",
    "    while (caliper.time < scale.time.iloc[scale_start_ind]).sum() == 0:\n",
    "        scale_start_ind += 1\n",
    "    caliper_start_ind = caliper.index[caliper.time < scale.time.iloc[scale_start_ind]].max()\n",
    "\n",
    "    scale_end_ind = scale.index.max()\n",
    "    while (caliper.time > scale.time.iloc[scale_end_ind]).sum() == 0:\n",
    "        scale_end_ind -= 1\n",
    "    caliper_end_index = caliper.index[caliper.time > scale.time.iloc[scale_end_ind]].min()\n",
    "    clean_scale = scale.iloc[scale_start_ind:scale_end_ind + 1]\n",
    "    clean_caliper = caliper.iloc[caliper_start_ind:caliper_end_index + 1]\n",
    "\n",
    "    return clean_caliper.reset_index(drop=True), clean_scale.reset_index(drop=True)"
   ]
  },
  {
   "cell_type": "code",
   "execution_count": 55,
   "metadata": {},
   "outputs": [],
   "source": [
    "ccaliper, cscale = clean_raw_data(caliper=caliper, scale=scale)"
   ]
  },
  {
   "cell_type": "code",
   "execution_count": 77,
   "metadata": {},
   "outputs": [],
   "source": [
    "def interpolate_displacement(caliper:pd.DataFrame, scale:pd.DataFrame):\n",
    "    \"\"\" \n",
    "    Interpolate displacement data to match weight readings.\n",
    "    Assuming slow change in displacement, the interpolation should be decently accurate.\n",
    "    \"\"\"\n",
    "    clpr = np.zeros(scale.shape[0])\n",
    "    row_iter = scale.iterrows()\n",
    "    for row in row_iter:\n",
    "        # get index for interpolate\n",
    "        target_time = row[1].time\n",
    "        clwr_ind = caliper.index[caliper.time < target_time].max()\n",
    "        cupr_ind = clwr_ind + 1\n",
    "        # interpolate\n",
    "        dt_range = (caliper.time.iloc[cupr_ind] - caliper.time.iloc[clwr_ind]).total_seconds()\n",
    "        dt = (target_time - caliper.time.iloc[clwr_ind]).total_seconds()\n",
    "        dx_range = caliper.displacement.iloc[cupr_ind] - caliper.displacement.iloc[clwr_ind]\n",
    "        clpr[row[0]] = dt / dt_range * dx_range + caliper.displacement.iloc[clwr_ind]\n",
    "    return clpr, scale.weight.to_numpy()"
   ]
  },
  {
   "cell_type": "code",
   "execution_count": 78,
   "metadata": {},
   "outputs": [],
   "source": [
    "xls, wls = interpolate_displacement(caliper=ccaliper, scale=cscale)"
   ]
  },
  {
   "cell_type": "code",
   "execution_count": 80,
   "metadata": {},
   "outputs": [
    {
     "data": {
      "text/plain": [
       "array([0.00000000e+00, 0.00000000e+00, 0.00000000e+00, 0.00000000e+00,\n",
       "       0.00000000e+00, 0.00000000e+00, 0.00000000e+00, 0.00000000e+00,\n",
       "       1.86481992e-03, 3.86662140e+00, 4.30375594e+00, 4.32243265e+00,\n",
       "       5.34867129e+00, 6.38913781e+00, 7.55436678e+00, 8.97269003e+00,\n",
       "       1.04374626e+01, 1.07623543e+01, 1.08533322e+01, 1.00878396e+01,\n",
       "       1.01196462e+01, 1.13171793e+01, 1.27610172e+01, 1.35452972e+01,\n",
       "       1.40472360e+01, 1.44183763e+01, 1.49704153e+01, 1.49720000e+01,\n",
       "       1.49691484e+01, 1.49680000e+01, 1.49700000e+01, 1.49700000e+01,\n",
       "       1.56701532e+01])"
      ]
     },
     "execution_count": 80,
     "metadata": {},
     "output_type": "execute_result"
    }
   ],
   "source": []
  },
  {
   "cell_type": "code",
   "execution_count": 69,
   "metadata": {},
   "outputs": [
    {
     "data": {
      "text/plain": [
       "Timestamp('2024-08-15 16:27:14.610912')"
      ]
     },
     "execution_count": 69,
     "metadata": {},
     "output_type": "execute_result"
    }
   ],
   "source": [
    "r[1].time"
   ]
  },
  {
   "cell_type": "code",
   "execution_count": null,
   "metadata": {},
   "outputs": [],
   "source": []
  }
 ],
 "metadata": {
  "kernelspec": {
   "display_name": "exp-proj",
   "language": "python",
   "name": "python3"
  },
  "language_info": {
   "codemirror_mode": {
    "name": "ipython",
    "version": 3
   },
   "file_extension": ".py",
   "mimetype": "text/x-python",
   "name": "python",
   "nbconvert_exporter": "python",
   "pygments_lexer": "ipython3",
   "version": "3.12.4"
  }
 },
 "nbformat": 4,
 "nbformat_minor": 2
}
