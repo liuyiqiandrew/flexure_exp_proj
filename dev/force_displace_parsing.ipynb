{
 "cells": [
  {
   "cell_type": "code",
   "execution_count": 3,
   "metadata": {},
   "outputs": [],
   "source": [
    "import pandas as pd\n",
    "import numpy as np\n",
    "import matplotlib.pyplot as plt"
   ]
  },
  {
   "cell_type": "code",
   "execution_count": 23,
   "metadata": {},
   "outputs": [],
   "source": [
    "caliper = pd.read_csv(\n",
    "    '../data/test/caliper_output.txt', \n",
    "    sep='|',\n",
    "    header=0,\n",
    "    dtype={\n",
    "        'displacement': np.float64,\n",
    "        'delay': np.float64\n",
    "    },\n",
    "    parse_dates=['time']\n",
    ")\n",
    "\n",
    "scale = pd.read_csv(\n",
    "    \"../data/test/scale_output.txt\",\n",
    "    sep='|',\n",
    "    header=0,\n",
    "    dtype={\n",
    "        'weight': np.float64,\n",
    "        'unit': str,\n",
    "        'flag': str\n",
    "    },\n",
    "    parse_dates=['time']\n",
    ")"
   ]
  },
  {
   "cell_type": "code",
   "execution_count": 24,
   "metadata": {},
   "outputs": [],
   "source": [
    "def read_data(caliper_path, scale_path):\n",
    "    \"\"\" Read caliper and scale data \"\"\"\n",
    "    caliper = pd.read_csv(\n",
    "        caliper_path, \n",
    "        sep='|',\n",
    "        header=0,\n",
    "        dtype={\n",
    "            'displacement': np.float64,\n",
    "            'delay': np.float64\n",
    "        },\n",
    "        parse_dates=['time']\n",
    "    )\n",
    "\n",
    "    caliper.loc[:, 'derr'] = caliper.displacement.diff().abs() / 2\n",
    "    caliper.loc[0, 'derr'] = caliper.loc[0, 'derr']\n",
    "    caliper.derr = 0.001 + caliper.derr\n",
    "\n",
    "    scale = pd.read_csv(\n",
    "        scale_path,\n",
    "        sep='|',\n",
    "        header=0,\n",
    "        dtype={\n",
    "            'weight': np.float64,\n",
    "            'unit': str,\n",
    "            'flag': str\n",
    "        },\n",
    "        parse_dates=['time']\n",
    "    )\n",
    "    scale.loc[:, 'ferr'] = scale.weight.diff().abs() / 2\n",
    "    scale.loc[0, 'ferr'] = scale.loc[1, 'ferr']\n",
    "    scale.ferr += 0.5\n",
    "    \n",
    "    return caliper, scale"
   ]
  },
  {
   "cell_type": "code",
   "execution_count": 26,
   "metadata": {},
   "outputs": [],
   "source": [
    "caliper, scale = read_data(\"../data/buckling/caliper_6in_116_1.txt\", \"../data/buckling/scale_6in_116_1.txt\")"
   ]
  },
  {
   "cell_type": "code",
   "execution_count": 27,
   "metadata": {},
   "outputs": [],
   "source": [
    "def clean_raw_data(caliper:pd.DataFrame, scale:pd.DataFrame):\n",
    "    \"\"\" Clean raw data heads and tails for data matching later \"\"\"\n",
    "    scale_start_ind = 0\n",
    "    while (caliper.time < scale.time.iloc[scale_start_ind]).sum() == 0:\n",
    "        scale_start_ind += 1\n",
    "    caliper_start_ind = caliper.index[caliper.time < scale.time.iloc[scale_start_ind]].max()\n",
    "\n",
    "    scale_end_ind = scale.index.max()\n",
    "    while (caliper.time > scale.time.iloc[scale_end_ind]).sum() == 0:\n",
    "        scale_end_ind -= 1\n",
    "    caliper_end_index = caliper.index[caliper.time > scale.time.iloc[scale_end_ind]].min()\n",
    "    clean_scale = scale.iloc[scale_start_ind:scale_end_ind + 1]\n",
    "    clean_caliper = caliper.iloc[caliper_start_ind:caliper_end_index + 1]\n",
    "\n",
    "    return clean_caliper.reset_index(drop=True), clean_scale.reset_index(drop=True)"
   ]
  },
  {
   "cell_type": "code",
   "execution_count": 28,
   "metadata": {},
   "outputs": [],
   "source": [
    "ccaliper, cscale = clean_raw_data(caliper=caliper, scale=scale)"
   ]
  },
  {
   "cell_type": "code",
   "execution_count": 29,
   "metadata": {},
   "outputs": [
    {
     "data": {
      "text/html": [
       "<div>\n",
       "<style scoped>\n",
       "    .dataframe tbody tr th:only-of-type {\n",
       "        vertical-align: middle;\n",
       "    }\n",
       "\n",
       "    .dataframe tbody tr th {\n",
       "        vertical-align: top;\n",
       "    }\n",
       "\n",
       "    .dataframe thead th {\n",
       "        text-align: right;\n",
       "    }\n",
       "</style>\n",
       "<table border=\"1\" class=\"dataframe\">\n",
       "  <thead>\n",
       "    <tr style=\"text-align: right;\">\n",
       "      <th></th>\n",
       "      <th>time</th>\n",
       "      <th>displacement</th>\n",
       "      <th>delay</th>\n",
       "      <th>derr</th>\n",
       "    </tr>\n",
       "  </thead>\n",
       "  <tbody>\n",
       "    <tr>\n",
       "      <th>0</th>\n",
       "      <td>2024-08-28 14:58:33.990431</td>\n",
       "      <td>0.004</td>\n",
       "      <td>-0.00214</td>\n",
       "      <td>0.001</td>\n",
       "    </tr>\n",
       "    <tr>\n",
       "      <th>1</th>\n",
       "      <td>2024-08-28 14:58:34.121538</td>\n",
       "      <td>0.004</td>\n",
       "      <td>-0.00431</td>\n",
       "      <td>0.001</td>\n",
       "    </tr>\n",
       "    <tr>\n",
       "      <th>2</th>\n",
       "      <td>2024-08-28 14:58:34.237329</td>\n",
       "      <td>0.004</td>\n",
       "      <td>0.00865</td>\n",
       "      <td>0.001</td>\n",
       "    </tr>\n",
       "    <tr>\n",
       "      <th>3</th>\n",
       "      <td>2024-08-28 14:58:34.359225</td>\n",
       "      <td>0.004</td>\n",
       "      <td>0.01564</td>\n",
       "      <td>0.001</td>\n",
       "    </tr>\n",
       "    <tr>\n",
       "      <th>4</th>\n",
       "      <td>2024-08-28 14:58:34.488097</td>\n",
       "      <td>0.004</td>\n",
       "      <td>0.01563</td>\n",
       "      <td>0.001</td>\n",
       "    </tr>\n",
       "    <tr>\n",
       "      <th>...</th>\n",
       "      <td>...</td>\n",
       "      <td>...</td>\n",
       "      <td>...</td>\n",
       "      <td>...</td>\n",
       "    </tr>\n",
       "    <tr>\n",
       "      <th>225</th>\n",
       "      <td>2024-08-28 14:59:03.117302</td>\n",
       "      <td>1.880</td>\n",
       "      <td>-0.00107</td>\n",
       "      <td>0.034</td>\n",
       "    </tr>\n",
       "    <tr>\n",
       "      <th>226</th>\n",
       "      <td>2024-08-28 14:59:03.248136</td>\n",
       "      <td>1.882</td>\n",
       "      <td>0.00292</td>\n",
       "      <td>0.002</td>\n",
       "    </tr>\n",
       "    <tr>\n",
       "      <th>227</th>\n",
       "      <td>2024-08-28 14:59:03.372265</td>\n",
       "      <td>1.920</td>\n",
       "      <td>0.00679</td>\n",
       "      <td>0.020</td>\n",
       "    </tr>\n",
       "    <tr>\n",
       "      <th>228</th>\n",
       "      <td>2024-08-28 14:59:03.503522</td>\n",
       "      <td>1.982</td>\n",
       "      <td>0.00440</td>\n",
       "      <td>0.032</td>\n",
       "    </tr>\n",
       "    <tr>\n",
       "      <th>229</th>\n",
       "      <td>2024-08-28 14:59:03.637170</td>\n",
       "      <td>2.120</td>\n",
       "      <td>-0.00038</td>\n",
       "      <td>0.070</td>\n",
       "    </tr>\n",
       "  </tbody>\n",
       "</table>\n",
       "<p>230 rows × 4 columns</p>\n",
       "</div>"
      ],
      "text/plain": [
       "                          time  displacement    delay   derr\n",
       "0   2024-08-28 14:58:33.990431         0.004 -0.00214  0.001\n",
       "1   2024-08-28 14:58:34.121538         0.004 -0.00431  0.001\n",
       "2   2024-08-28 14:58:34.237329         0.004  0.00865  0.001\n",
       "3   2024-08-28 14:58:34.359225         0.004  0.01564  0.001\n",
       "4   2024-08-28 14:58:34.488097         0.004  0.01563  0.001\n",
       "..                         ...           ...      ...    ...\n",
       "225 2024-08-28 14:59:03.117302         1.880 -0.00107  0.034\n",
       "226 2024-08-28 14:59:03.248136         1.882  0.00292  0.002\n",
       "227 2024-08-28 14:59:03.372265         1.920  0.00679  0.020\n",
       "228 2024-08-28 14:59:03.503522         1.982  0.00440  0.032\n",
       "229 2024-08-28 14:59:03.637170         2.120 -0.00038  0.070\n",
       "\n",
       "[230 rows x 4 columns]"
      ]
     },
     "execution_count": 29,
     "metadata": {},
     "output_type": "execute_result"
    }
   ],
   "source": []
  },
  {
   "cell_type": "code",
   "execution_count": 31,
   "metadata": {},
   "outputs": [],
   "source": [
    "def interpolate_displacement(caliper:pd.DataFrame, scale:pd.DataFrame):\n",
    "    \"\"\" \n",
    "    Interpolate displacement data to match weight readings.\n",
    "    Assuming slow change in displacement, the interpolation should be decently accurate.\n",
    "    \"\"\"\n",
    "    clpr = np.zeros(scale.shape[0])\n",
    "    clpr_err = np.zeros(scale.shape[0])\n",
    "    row_iter = scale.iterrows()\n",
    "    for row in row_iter:\n",
    "        # get index for interpolate\n",
    "        target_time = row[1].time\n",
    "        clwr_ind = caliper.index[caliper.time < target_time].max()\n",
    "        cupr_ind = clwr_ind + 1\n",
    "        # interpolate\n",
    "        dt_range = (caliper.time.iloc[cupr_ind] - caliper.time.iloc[clwr_ind]).total_seconds()\n",
    "        dt = (target_time - caliper.time.iloc[clwr_ind]).total_seconds()\n",
    "        dx_range = caliper.displacement.iloc[cupr_ind] - caliper.displacement.iloc[clwr_ind]\n",
    "        dx_range_err = caliper.derr.iloc[cupr_ind] + caliper.derr.iloc[clwr_ind]\n",
    "        clpr[row[0]] = dt / dt_range * dx_range + caliper.displacement.iloc[clwr_ind]\n",
    "        clpr_err[row[0]] = dt / dt_range * dx_range_err\n",
    "    return clpr, clpr_err, scale.weight.to_numpy(), scale.ferr.to_numpy()"
   ]
  },
  {
   "cell_type": "code",
   "execution_count": 32,
   "metadata": {},
   "outputs": [],
   "source": [
    "xls, xerr, wls, werr = interpolate_displacement(caliper=ccaliper, scale=cscale)"
   ]
  },
  {
   "cell_type": "code",
   "execution_count": 36,
   "metadata": {},
   "outputs": [
    {
     "data": {
      "text/plain": [
       "<ErrorbarContainer object of 3 artists>"
      ]
     },
     "execution_count": 36,
     "metadata": {},
     "output_type": "execute_result"
    },
    {
     "data": {
      "image/png": "[encoded data removed]",
      "text/plain": [
       "<Figure size 1920x1440 with 1 Axes>"
      ]
     },
     "metadata": {},
     "output_type": "display_data"
    }
   ],
   "source": [
    "plt.figure(dpi=300)\n",
    "plt.errorbar(xls, -wls, werr, xerr=xerr, ls='', fmt='.')"
   ]
  },
  {
   "cell_type": "code",
   "execution_count": 69,
   "metadata": {},
   "outputs": [
    {
     "data": {
      "text/plain": [
       "Timestamp('2024-08-15 16:27:14.610912')"
      ]
     },
     "execution_count": 69,
     "metadata": {},
     "output_type": "execute_result"
    }
   ],
   "source": [
    "r[1].time"
   ]
  },
  {
   "cell_type": "code",
   "execution_count": 5,
   "metadata": {},
   "outputs": [],
   "source": [
    "clp, frc = read_data(\"../data/buckling/caliper_6in_116_1.txt\", \"../data/buckling/scale_6in_116_1.txt\")"
   ]
  },
  {
   "cell_type": "code",
   "execution_count": 14,
   "metadata": {},
   "outputs": [],
   "source": [
    "clp.loc[:, 'derr'] = clp.displacement.diff().abs() / 2\n",
    "clp.loc[0, 'derr'] = clp.loc[0, 'derr']\n",
    "clp.derr = 0.001 + clp.derr"
   ]
  },
  {
   "cell_type": "code",
   "execution_count": 21,
   "metadata": {},
   "outputs": [],
   "source": [
    "frc.loc[:, 'ferr'] = frc.weight.diff().abs() / 2\n",
    "frc.loc[0, 'ferr'] = frc.loc[1, 'ferr']\n",
    "frc.ferr += 0.5"
   ]
  },
  {
   "cell_type": "code",
   "execution_count": 22,
   "metadata": {},
   "outputs": [
    {
     "data": {
      "text/html": [
       "<div>\n",
       "<style scoped>\n",
       "    .dataframe tbody tr th:only-of-type {\n",
       "        vertical-align: middle;\n",
       "    }\n",
       "\n",
       "    .dataframe tbody tr th {\n",
       "        vertical-align: top;\n",
       "    }\n",
       "\n",
       "    .dataframe thead th {\n",
       "        text-align: right;\n",
       "    }\n",
       "</style>\n",
       "<table border=\"1\" class=\"dataframe\">\n",
       "  <thead>\n",
       "    <tr style=\"text-align: right;\">\n",
       "      <th></th>\n",
       "      <th>time</th>\n",
       "      <th>weight</th>\n",
       "      <th>unit</th>\n",
       "      <th>flag</th>\n",
       "      <th>ferr</th>\n",
       "    </tr>\n",
       "  </thead>\n",
       "  <tbody>\n",
       "    <tr>\n",
       "      <th>0</th>\n",
       "      <td>2024-08-28 14:58:34.106000</td>\n",
       "      <td>0.0</td>\n",
       "      <td>LG</td>\n",
       "      <td>S</td>\n",
       "      <td>0.5</td>\n",
       "    </tr>\n",
       "    <tr>\n",
       "      <th>1</th>\n",
       "      <td>2024-08-28 14:58:34.406134</td>\n",
       "      <td>0.0</td>\n",
       "      <td>LG</td>\n",
       "      <td>S</td>\n",
       "      <td>0.5</td>\n",
       "    </tr>\n",
       "    <tr>\n",
       "      <th>2</th>\n",
       "      <td>2024-08-28 14:58:34.706085</td>\n",
       "      <td>0.0</td>\n",
       "      <td>LG</td>\n",
       "      <td>S</td>\n",
       "      <td>0.5</td>\n",
       "    </tr>\n",
       "    <tr>\n",
       "      <th>3</th>\n",
       "      <td>2024-08-28 14:58:35.006240</td>\n",
       "      <td>0.0</td>\n",
       "      <td>LG</td>\n",
       "      <td>S</td>\n",
       "      <td>0.5</td>\n",
       "    </tr>\n",
       "    <tr>\n",
       "      <th>4</th>\n",
       "      <td>2024-08-28 14:58:35.307211</td>\n",
       "      <td>0.0</td>\n",
       "      <td>LG</td>\n",
       "      <td>S</td>\n",
       "      <td>0.5</td>\n",
       "    </tr>\n",
       "    <tr>\n",
       "      <th>...</th>\n",
       "      <td>...</td>\n",
       "      <td>...</td>\n",
       "      <td>...</td>\n",
       "      <td>...</td>\n",
       "      <td>...</td>\n",
       "    </tr>\n",
       "    <tr>\n",
       "      <th>95</th>\n",
       "      <td>2024-08-28 14:59:02.618174</td>\n",
       "      <td>-237.0</td>\n",
       "      <td>LG</td>\n",
       "      <td>M</td>\n",
       "      <td>1.5</td>\n",
       "    </tr>\n",
       "    <tr>\n",
       "      <th>96</th>\n",
       "      <td>2024-08-28 14:59:02.918913</td>\n",
       "      <td>-238.0</td>\n",
       "      <td>LG</td>\n",
       "      <td>M</td>\n",
       "      <td>1.0</td>\n",
       "    </tr>\n",
       "    <tr>\n",
       "      <th>97</th>\n",
       "      <td>2024-08-28 14:59:03.219452</td>\n",
       "      <td>-239.0</td>\n",
       "      <td>LG</td>\n",
       "      <td>M</td>\n",
       "      <td>1.0</td>\n",
       "    </tr>\n",
       "    <tr>\n",
       "      <th>98</th>\n",
       "      <td>2024-08-28 14:59:03.520211</td>\n",
       "      <td>-240.0</td>\n",
       "      <td>LG</td>\n",
       "      <td>M</td>\n",
       "      <td>1.0</td>\n",
       "    </tr>\n",
       "    <tr>\n",
       "      <th>99</th>\n",
       "      <td>2024-08-28 14:59:03.819681</td>\n",
       "      <td>-242.0</td>\n",
       "      <td>LG</td>\n",
       "      <td>M</td>\n",
       "      <td>1.5</td>\n",
       "    </tr>\n",
       "  </tbody>\n",
       "</table>\n",
       "<p>100 rows × 5 columns</p>\n",
       "</div>"
      ],
      "text/plain": [
       "                         time  weight  unit flag  ferr\n",
       "0  2024-08-28 14:58:34.106000     0.0   LG     S   0.5\n",
       "1  2024-08-28 14:58:34.406134     0.0   LG     S   0.5\n",
       "2  2024-08-28 14:58:34.706085     0.0   LG     S   0.5\n",
       "3  2024-08-28 14:58:35.006240     0.0   LG     S   0.5\n",
       "4  2024-08-28 14:58:35.307211     0.0   LG     S   0.5\n",
       "..                        ...     ...   ...  ...   ...\n",
       "95 2024-08-28 14:59:02.618174  -237.0   LG     M   1.5\n",
       "96 2024-08-28 14:59:02.918913  -238.0   LG     M   1.0\n",
       "97 2024-08-28 14:59:03.219452  -239.0   LG     M   1.0\n",
       "98 2024-08-28 14:59:03.520211  -240.0   LG     M   1.0\n",
       "99 2024-08-28 14:59:03.819681  -242.0   LG     M   1.5\n",
       "\n",
       "[100 rows x 5 columns]"
      ]
     },
     "execution_count": 22,
     "metadata": {},
     "output_type": "execute_result"
    }
   ],
   "source": [
    "frc"
   ]
  },
  {
   "cell_type": "code",
   "execution_count": null,
   "metadata": {},
   "outputs": [],
   "source": []
  }
 ],
 "metadata": {
  "kernelspec": {
   "display_name": "exp-proj",
   "language": "python",
   "name": "python3"
  },
  "language_info": {
   "codemirror_mode": {
    "name": "ipython",
    "version": 3
   },
   "file_extension": ".py",
   "mimetype": "text/x-python",
   "name": "python",
   "nbconvert_exporter": "python",
   "pygments_lexer": "ipython3",
   "version": "3.12.4"
  }
 },
 "nbformat": 4,
 "nbformat_minor": 2
}
